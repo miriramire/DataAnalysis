{
 "cells": [
  {
   "cell_type": "code",
   "execution_count": 1,
   "metadata": {},
   "outputs": [],
   "source": [
    "import numpy as np"
   ]
  },
  {
   "cell_type": "code",
   "execution_count": 2,
   "metadata": {},
   "outputs": [],
   "source": [
    "data = {i: np.random.randn() for i in range(7)}"
   ]
  },
  {
   "cell_type": "code",
   "execution_count": 3,
   "metadata": {},
   "outputs": [
    {
     "data": {
      "text/plain": [
       "{0: -1.4760955683460557,\n",
       " 1: -0.05969290972169735,\n",
       " 2: 0.31036719021308784,\n",
       " 3: 2.8890355231333684,\n",
       " 4: -1.807812423573704,\n",
       " 5: 1.8125826992689278,\n",
       " 6: 0.0977834227730332}"
      ]
     },
     "execution_count": 3,
     "metadata": {},
     "output_type": "execute_result"
    }
   ],
   "source": [
    "data"
   ]
  },
  {
   "cell_type": "code",
   "execution_count": 4,
   "metadata": {},
   "outputs": [],
   "source": [
    "from numpy.random import randn\n",
    "data = {i: randn() for i in range(7)}"
   ]
  },
  {
   "cell_type": "code",
   "execution_count": 5,
   "metadata": {},
   "outputs": [
    {
     "name": "stdout",
     "output_type": "stream",
     "text": [
      "{0: -0.1831714879771462, 1: -1.029199456718435, 2: -2.0416324693813777, 3: -0.3555355049593301, 4: -1.0615324439486649, 5: 0.30042969647000395, 6: 0.7164383319346961}\n"
     ]
    }
   ],
   "source": [
    "print(data)"
   ]
  },
  {
   "cell_type": "markdown",
   "metadata": {},
   "source": [
    "<h2>Tab Completion</h2>"
   ]
  },
  {
   "cell_type": "code",
   "execution_count": 6,
   "metadata": {},
   "outputs": [],
   "source": [
    "#pressing <Tab> will search the namespace for any variables (objects, functions, etc.)\n",
    "an_apple = 27\n",
    "an_example = 42"
   ]
  },
  {
   "cell_type": "markdown",
   "metadata": {},
   "source": [
    "<p>pressing <b>Tab</b> will search the namespace for any variables (objects, functions, etc.)</p>\n",
    "an <b>Tab</b>\n",
    "an_apple          and            an_example        any</p>\n",
    "<br>\n",
    "<p>The same goes for modules:</p>\n",
    "import datetime\n",
    "datetime.\"<\"Tab\">\"\n",
    "    <p>datetime.date        datetime.MAXYEAR         datetime.timedelta</p>\n",
    "<p>datetime.datetime datetime.MINYEAR datetime.tzinfo</p>\n",
    "<p>datetime.datetime_CAPI datetime.time</p>"
   ]
  },
  {
   "cell_type": "code",
   "execution_count": 7,
   "metadata": {},
   "outputs": [],
   "source": [
    "b = [1,2,3]"
   ]
  },
  {
   "cell_type": "markdown",
   "metadata": {},
   "source": [
    "<h2>Introspection</h2>"
   ]
  },
  {
   "cell_type": "code",
   "execution_count": 8,
   "metadata": {},
   "outputs": [],
   "source": [
    "#Using a question mark (?) before or after a variable will display some general information about the object:\n",
    "b?"
   ]
  },
  {
   "cell_type": "code",
   "execution_count": 9,
   "metadata": {},
   "outputs": [],
   "source": [
    "def add_numbers(a,b):\n",
    "    \"\"\"\n",
    "    Add two numbers together\n",
    "    Returns\n",
    "    -----------\n",
    "    The sum : Type arguments\n",
    "    \"\"\"\n",
    "    return a+b"
   ]
  },
  {
   "cell_type": "code",
   "execution_count": 10,
   "metadata": {},
   "outputs": [],
   "source": [
    "add_numbers?"
   ]
  },
  {
   "cell_type": "code",
   "execution_count": 11,
   "metadata": {},
   "outputs": [],
   "source": [
    "#Using ?? will also show the function’s source code if possible:\n",
    "add_numbers??"
   ]
  },
  {
   "cell_type": "code",
   "execution_count": 12,
   "metadata": {},
   "outputs": [],
   "source": [
    "#A number of characters combined with the wildcard ( * ) will show all names matching the wildcard expression.\n",
    "np.*load*?"
   ]
  },
  {
   "cell_type": "markdown",
   "metadata": {},
   "source": [
    "<h2>The %run Command</h2>"
   ]
  },
  {
   "cell_type": "markdown",
   "metadata": {},
   "source": [
    "<p>We have the following script in <b>ipython_script_test.py</b>: </p>\n",
    "<i>def f(x, y, z):<br>\n",
    "return (x + y) / z<br>\n",
    "a = 5<br>\n",
    "b = 6<br>\n",
    "c = 7.5<br>\n",
    "result = f(a, b, c)</i>"
   ]
  },
  {
   "cell_type": "code",
   "execution_count": 13,
   "metadata": {},
   "outputs": [],
   "source": [
    "%run ipython_script_test.py"
   ]
  },
  {
   "cell_type": "code",
   "execution_count": 14,
   "metadata": {},
   "outputs": [
    {
     "data": {
      "text/plain": [
       "7.5"
      ]
     },
     "execution_count": 14,
     "metadata": {},
     "output_type": "execute_result"
    }
   ],
   "source": [
    "c"
   ]
  },
  {
   "cell_type": "code",
   "execution_count": 15,
   "metadata": {},
   "outputs": [
    {
     "data": {
      "text/plain": [
       "1.4666666666666666"
      ]
     },
     "execution_count": 15,
     "metadata": {},
     "output_type": "execute_result"
    }
   ],
   "source": [
    "result"
   ]
  },
  {
   "cell_type": "markdown",
   "metadata": {},
   "source": [
    "<h3>Interrupting running code</h3>\n",
    "<p>Pressing <b>\"<\"Ctrl-C\">\"</b> while any code is running, whether a script through %run or a long-\n",
    "running command, will cause a KeyboardInterrupt to be raised.</p>"
   ]
  },
  {
   "cell_type": "markdown",
   "metadata": {},
   "source": [
    "<h2>Executing Code from the Clipboard</h2>\n",
    "<p>execute a script\n",
    "piece by piece, pausing at each stage to examine the currently loaded data and results.</p>\n",
    "<p>\n",
    "%paste<br>\n",
    "x = 5<br>\n",
    "y = 7<br>\n",
    "if x > 5:<br>\n",
    "x += 1<br>\n",
    "y = 8<br>\n",
    "## -- End pasted text --</p>"
   ]
  },
  {
   "cell_type": "code",
   "execution_count": 16,
   "metadata": {},
   "outputs": [
    {
     "name": "stderr",
     "output_type": "stream",
     "text": [
      "UsageError: Line magic function `%cpaste` not found.\n"
     ]
    }
   ],
   "source": [
    "%cpaste"
   ]
  },
  {
   "cell_type": "markdown",
   "metadata": {},
   "source": [
    "<h2>Magic Commands</h2>"
   ]
  },
  {
   "cell_type": "code",
   "execution_count": 17,
   "metadata": {},
   "outputs": [],
   "source": [
    "a = np.random.randn(100, 100)"
   ]
  },
  {
   "cell_type": "code",
   "execution_count": 18,
   "metadata": {},
   "outputs": [
    {
     "name": "stdout",
     "output_type": "stream",
     "text": [
      "591 µs ± 242 µs per loop (mean ± std. dev. of 7 runs, 1 loop each)\n"
     ]
    }
   ],
   "source": [
    "%timeit np.dot(a,a)"
   ]
  },
  {
   "cell_type": "code",
   "execution_count": 19,
   "metadata": {},
   "outputs": [],
   "source": [
    "%reset?"
   ]
  },
  {
   "cell_type": "markdown",
   "metadata": {},
   "source": [
    "<p>Magic functions can be used by default without the percent sign</p>\n",
    "<p>This feature is called automagic and can be enabled or disabled using %automagic .</p>"
   ]
  },
  {
   "cell_type": "code",
   "execution_count": 20,
   "metadata": {},
   "outputs": [
    {
     "ename": "NameError",
     "evalue": "name 'ipython' is not defined",
     "output_type": "error",
     "traceback": [
      "\u001b[0;31m---------------------------------------------------------------------------\u001b[0m",
      "\u001b[0;31mNameError\u001b[0m                                 Traceback (most recent call last)",
      "\u001b[0;32m<ipython-input-20-59a710235704>\u001b[0m in \u001b[0;36m<module>\u001b[0;34m()\u001b[0m\n\u001b[0;32m----> 1\u001b[0;31m \u001b[0mipython\u001b[0m \u001b[0;34m-\u001b[0m\u001b[0;34m-\u001b[0m\u001b[0mpylab\u001b[0m\u001b[0;34m\u001b[0m\u001b[0m\n\u001b[0m",
      "\u001b[0;31mNameError\u001b[0m: name 'ipython' is not defined"
     ]
    }
   ],
   "source": [
    "ipython --pylab"
   ]
  },
  {
   "cell_type": "code",
   "execution_count": 21,
   "metadata": {},
   "outputs": [],
   "source": [
    "%gui?"
   ]
  },
  {
   "cell_type": "code",
   "execution_count": 1,
   "metadata": {},
   "outputs": [
    {
     "name": "stdout",
     "output_type": "stream",
     "text": [
      "\n",
      "Configuraci¢n IP de Windows\n",
      "\n",
      "   Nombre de host. . . . . . . . . : DESKTOP-JT8C2C8\n",
      "   Sufijo DNS principal  . . . . . : \n",
      "   Tipo de nodo. . . . . . . . . . : h¡brido\n",
      "   Enrutamiento IP habilitado. . . : no\n",
      "   Proxy WINS habilitado . . . . . : no\n",
      "   Lista de b£squeda de sufijos DNS: impacthub.net\n",
      "\n",
      "Adaptador de Ethernet Ethernet:\n",
      "\n",
      "   Sufijo DNS espec¡fico para la conexi¢n. . : impacthub.net\n",
      "   Descripci¢n . . . . . . . . . . . . . . . : Realtek PCIe GBE Family Controller\n",
      "   Direcci¢n f¡sica. . . . . . . . . . . . . : 6C-4B-90-0B-E0-CB\n",
      "   DHCP habilitado . . . . . . . . . . . . . : s¡\n",
      "   Configuraci¢n autom tica habilitada . . . : s¡\n",
      "   V¡nculo: direcci¢n IPv6 local. . . : fe80::f59b:bb44:b057:bf3e%12(Preferido) \n",
      "   Direcci¢n IPv4. . . . . . . . . . . . . . : 192.168.60.29(Preferido) \n",
      "   M scara de subred . . . . . . . . . . . . : 255.255.255.0\n",
      "   Concesi¢n obtenida. . . . . . . . . . . . : Tuesday, August 20, 2019 4:19:39 PM\n",
      "   La concesi¢n expira . . . . . . . . . . . : Saturday, August 24, 2019 2:05:58 PM\n",
      "   Puerta de enlace predeterminada . . . . . : 192.168.60.1\n",
      "   Servidor DHCP . . . . . . . . . . . . . . : 192.168.60.2\n",
      "   IAID DHCPv6 . . . . . . . . . . . . . . . : 57428880\n",
      "   DUID de cliente DHCPv6. . . . . . . . . . : 00-01-00-01-20-D3-41-AD-6C-4B-90-0B-E0-CB\n",
      "   Servidores DNS. . . . . . . . . . . . . . : 200.13.249.101\n",
      "                                       200.13.224.254\n",
      "   NetBIOS sobre TCP/IP. . . . . . . . . . . : habilitado\n"
     ]
    }
   ],
   "source": [
    "!ipconfig /all"
   ]
  },
  {
   "cell_type": "code",
   "execution_count": 2,
   "metadata": {},
   "outputs": [],
   "source": [
    "ip_info = !ipconfig /all"
   ]
  },
  {
   "cell_type": "code",
   "execution_count": 6,
   "metadata": {},
   "outputs": [
    {
     "data": {
      "text/plain": [
       "'Direcci¢n IPv4. . . . . . . . . . . . . . : 192.168.60.29(Preferido)'"
      ]
     },
     "execution_count": 6,
     "metadata": {},
     "output_type": "execute_result"
    }
   ],
   "source": [
    "ip_info[18].strip()"
   ]
  },
  {
   "cell_type": "code",
   "execution_count": 8,
   "metadata": {},
   "outputs": [
    {
     "name": "stdout",
     "output_type": "stream",
     "text": [
      " El volumen de la unidad C es Windows\n",
      " El n£mero de serie del volumen es: C265-3382\n",
      "\n",
      " Directorio de C:\\Users\\mramirez\\Desktop\\HDO\\Python\\Python_for_DA\n",
      "\n",
      "08/16/2019  02:27 PM    <DIR>          .ipynb_checkpoints\n",
      "08/23/2019  02:18 PM            11,016 IPython_Basics.ipynb\n",
      "08/20/2019  02:13 PM                68 ipython_script_test.py\n",
      "               2 archivos         11,084 bytes\n",
      "               1 dirs  902,486,904,832 bytes libres\n"
     ]
    }
   ],
   "source": [
    "foo = 'ip*'\n",
    "!dir $foo"
   ]
  },
  {
   "cell_type": "markdown",
   "metadata": {},
   "source": [
    "<p>Change the directory of a User</p>"
   ]
  },
  {
   "cell_type": "code",
   "execution_count": 20,
   "metadata": {},
   "outputs": [],
   "source": [
    "%bookmark db Users/mramirez/Desktop/HDO/Python/BigData"
   ]
  },
  {
   "cell_type": "code",
   "execution_count": 22,
   "metadata": {},
   "outputs": [
    {
     "name": "stdout",
     "output_type": "stream",
     "text": [
      "(bookmark:db) -> Users/mramirez/Desktop/HDO/Python/BigData\n",
      "C:\\Users\\mramirez\\Desktop\\HDO\\Python\\BigData\n"
     ]
    }
   ],
   "source": [
    "cd db"
   ]
  },
  {
   "cell_type": "markdown",
   "metadata": {},
   "source": [
    "<h3>Interactive Debugger</h3>\n",
    "<p>After you have an error in Python you can run the command %debug</p>\n",
    "<p>In [3]: %debug<br>\n",
    "    > /home/wesm/book_scripts/ch03/ipython_bug.py(9)throws_an_exception()<br>\n",
    "8 b = 6<br>\n",
    "----> 9 assert(a + b == 10)<br>\n",
    "10<br>\n",
    "ipdb>\n",
    "</p>"
   ]
  },
  {
   "cell_type": "markdown",
   "metadata": {},
   "source": [
    "<p><b>Timing Code</b></p>"
   ]
  },
  {
   "cell_type": "code",
   "execution_count": 1,
   "metadata": {},
   "outputs": [
    {
     "ename": "IndentationError",
     "evalue": "expected an indented block (<ipython-input-1-db8b1852a6ae>, line 7)",
     "output_type": "error",
     "traceback": [
      "\u001b[1;36m  File \u001b[1;32m\"<ipython-input-1-db8b1852a6ae>\"\u001b[1;36m, line \u001b[1;32m7\u001b[0m\n\u001b[1;33m    elapsed_per = (time.time() - start)/iterations\u001b[0m\n\u001b[1;37m              ^\u001b[0m\n\u001b[1;31mIndentationError\u001b[0m\u001b[1;31m:\u001b[0m expected an indented block\n"
     ]
    }
   ],
   "source": [
    "import time\n",
    "start = time.time()\n",
    "\n",
    "for i in range(iterations):\n",
    "    #some code to run\n",
    "    \n",
    "elapsed_per = (time.time() - start)/iterations"
   ]
  },
  {
   "cell_type": "markdown",
   "metadata": {},
   "source": [
    "<p>Python has two magic functions <b>%time</b> and\n",
    "    <b>%timeit</b> to automate this process for you. <b>%time</b> runs a statement once, reporting the\n",
    "total execution time</p><br>\n",
    "<p>The <b>Wall time</b> is the main number of interest.</p>"
   ]
  },
  {
   "cell_type": "code",
   "execution_count": 3,
   "metadata": {},
   "outputs": [],
   "source": [
    "#a very large list of strings\n",
    "strings = ['foo', 'foobar', 'baz', 'qux', 'python', 'Guido'] * 1000"
   ]
  },
  {
   "cell_type": "code",
   "execution_count": 4,
   "metadata": {},
   "outputs": [],
   "source": [
    "method1 = [x for x in strings if x.startswith('foo')]\n",
    "method2 = [x for x in strings if x[:3] == 'foo']"
   ]
  },
  {
   "cell_type": "code",
   "execution_count": 5,
   "metadata": {},
   "outputs": [
    {
     "name": "stdout",
     "output_type": "stream",
     "text": [
      "Wall time: 998 µs\n"
     ]
    }
   ],
   "source": [
    "%time method1 = [x for x in strings if x.startswith('foo')]"
   ]
  },
  {
   "cell_type": "code",
   "execution_count": 6,
   "metadata": {},
   "outputs": [
    {
     "name": "stdout",
     "output_type": "stream",
     "text": [
      "Wall time: 0 ns\n"
     ]
    }
   ],
   "source": [
    "%time method2 = [x for x in strings if x[:3] == 'foo']"
   ]
  },
  {
   "cell_type": "code",
   "execution_count": 7,
   "metadata": {},
   "outputs": [
    {
     "name": "stdout",
     "output_type": "stream",
     "text": [
      "801 µs ± 38 µs per loop (mean ± std. dev. of 7 runs, 1000 loops each)\n"
     ]
    }
   ],
   "source": [
    "%timeit [x for x in strings if x.startswith('foo')]"
   ]
  },
  {
   "cell_type": "code",
   "execution_count": 8,
   "metadata": {},
   "outputs": [
    {
     "name": "stdout",
     "output_type": "stream",
     "text": [
      "521 µs ± 29.3 µs per loop (mean ± std. dev. of 7 runs, 1000 loops each)\n"
     ]
    }
   ],
   "source": [
    "%timeit [x for x in strings if x[:3] == 'foo']"
   ]
  },
  {
   "cell_type": "markdown",
   "metadata": {},
   "source": [
    "<p><b>%timeit</b> is especially useful for analyzing statements and functions with very short ex-\n",
    "ecution times, even at the level of microseconds (1e-6 seconds) or nanoseconds (1e-9\n",
    "seconds).</p>"
   ]
  },
  {
   "cell_type": "code",
   "execution_count": 9,
   "metadata": {},
   "outputs": [],
   "source": [
    "x = 'foobar'\n",
    "y = 'foo'"
   ]
  },
  {
   "cell_type": "code",
   "execution_count": 10,
   "metadata": {},
   "outputs": [
    {
     "name": "stdout",
     "output_type": "stream",
     "text": [
      "145 ns ± 4.3 ns per loop (mean ± std. dev. of 7 runs, 10000000 loops each)\n"
     ]
    }
   ],
   "source": [
    "%timeit x.startswith(y)"
   ]
  },
  {
   "cell_type": "code",
   "execution_count": 11,
   "metadata": {},
   "outputs": [
    {
     "name": "stdout",
     "output_type": "stream",
     "text": [
      "116 ns ± 4.21 ns per loop (mean ± std. dev. of 7 runs, 10000000 loops each)\n"
     ]
    }
   ],
   "source": [
    "%timeit x[:3] == y"
   ]
  },
  {
   "cell_type": "markdown",
   "metadata": {},
   "source": [
    "<p><b>Basic Profiling: %prun and %run -p</b></p>"
   ]
  },
  {
   "cell_type": "code",
   "execution_count": 12,
   "metadata": {},
   "outputs": [],
   "source": [
    "import numpy as np\n",
    "from numpy.linalg import eigvals"
   ]
  },
  {
   "cell_type": "code",
   "execution_count": 13,
   "metadata": {},
   "outputs": [
    {
     "name": "stdout",
     "output_type": "stream",
     "text": [
      "Largest one we saw: 11.198411359628158\n"
     ]
    }
   ],
   "source": [
    "def run_experiment(niter=100):\n",
    "    k = 100\n",
    "    results = []\n",
    "    for _ in range(niter):\n",
    "        mat = np.random.randn(k, k)\n",
    "        max_eigenvalue = np.abs(eigvals(mat)).max()\n",
    "        results.append(max_eigenvalue)\n",
    "    return results\n",
    "some_results = run_experiment()\n",
    "print('Largest one we saw: %s' % np.max(some_results))"
   ]
  },
  {
   "cell_type": "code",
   "execution_count": 14,
   "metadata": {},
   "outputs": [
    {
     "name": "stdout",
     "output_type": "stream",
     "text": [
      " "
     ]
    }
   ],
   "source": [
    "%prun -l 7 -s cumulative run_experiment()"
   ]
  },
  {
   "cell_type": "markdown",
   "metadata": {},
   "source": []
  },
  {
   "cell_type": "code",
   "execution_count": null,
   "metadata": {},
   "outputs": [],
   "source": []
  }
 ],
 "metadata": {
  "kernelspec": {
   "display_name": "Python 3",
   "language": "python",
   "name": "python3"
  },
  "language_info": {
   "codemirror_mode": {
    "name": "ipython",
    "version": 3
   },
   "file_extension": ".py",
   "mimetype": "text/x-python",
   "name": "python",
   "nbconvert_exporter": "python",
   "pygments_lexer": "ipython3",
   "version": "3.7.3"
  }
 },
 "nbformat": 4,
 "nbformat_minor": 2
}
