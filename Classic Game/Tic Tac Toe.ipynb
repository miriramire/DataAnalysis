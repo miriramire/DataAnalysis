{
 "cells": [
  {
   "cell_type": "code",
   "execution_count": 1,
   "metadata": {},
   "outputs": [],
   "source": [
    "from IPython.display import clear_output"
   ]
  },
  {
   "cell_type": "code",
   "execution_count": 2,
   "metadata": {},
   "outputs": [],
   "source": [
    "def display_board(board):\n",
    "    clear_output()\n",
    "    print('|'+board[1]+'|'+board[2]+'|'+board[3]+'|')\n",
    "    print('|'+board[4]+'|'+board[5]+'|'+board[6]+'|')\n",
    "    print('|'+board[7]+'|'+board[8]+'|'+board[9]+'|')"
   ]
  },
  {
   "cell_type": "code",
   "execution_count": 3,
   "metadata": {},
   "outputs": [],
   "source": [
    "def player_input():\n",
    "    marker = ''\n",
    "    \n",
    "    #Keep asking if player 1 wants X or O\n",
    "    while marker != 'X' and marker != 'O':\n",
    "        marker = input('Player 1 please choose X or O: ')\n",
    "        \n",
    "        if marker != 'X' and marker != 'O':\n",
    "            print('Invalid Marker!!')\n",
    "    #Assign player 2 a marker\n",
    "    player1 = marker\n",
    "    \n",
    "    if player1 == 'X':\n",
    "        player2 = 'O'\n",
    "    else:\n",
    "        player2 = 'X'\n",
    "    \n",
    "    print('Player 1 plays with {} and Player 2 plays with {}'.format(player1, player2))\n",
    "    return (player1, player2)"
   ]
  },
  {
   "cell_type": "code",
   "execution_count": 4,
   "metadata": {},
   "outputs": [],
   "source": [
    "def welcome_to_game():\n",
    "    print(\"Welcome to Tic Tac Toe Game!!!\")\n",
    "    print(\"First: Select if you want to play with X or O,\")\n",
    "    print(\"Second: Select where you want to insert your marker:\")\n",
    "    print('-'*100)\n",
    "    test_board = ['0', '1', '2', '3', '4', '5', '6', '7', '8', '9']\n",
    "    \n",
    "    print('|'+test_board[1]+'|'+test_board[2]+'|'+test_board[3]+'|')\n",
    "    print('|'+test_board[4]+'|'+test_board[5]+'|'+test_board[6]+'|')\n",
    "    print('|'+test_board[7]+'|'+test_board[8]+'|'+test_board[9]+'|')\n",
    "    \n",
    "    print('-'*100)\n",
    "    print('Let\\'s start playing!!')"
   ]
  },
  {
   "cell_type": "code",
   "execution_count": 5,
   "metadata": {},
   "outputs": [],
   "source": [
    "def position_choice():\n",
    "    choise = \"Not a number\"\n",
    "    \n",
    "    #Ask for a digit to be inserted\n",
    "    #\n",
    "    while choise not in ['1', '2', '3', '4', '5', '6', '7', '8', '9']:\n",
    "        \n",
    "        choise = input(\"Pick up a position: \")\n",
    "        \n",
    "        if choise not in ['1', '2', '3', '4', '5', '6', '7', '8', '9']:\n",
    "            print(\"Sorry invalid choise!!\")\n",
    "    \n",
    "    return int(choise)"
   ]
  },
  {
   "cell_type": "code",
   "execution_count": 6,
   "metadata": {},
   "outputs": [],
   "source": [
    "def replacement(position, empty_board, player):\n",
    "    empty_board[position] = player\n",
    "    return empty_board"
   ]
  },
  {
   "cell_type": "code",
   "execution_count": 7,
   "metadata": {},
   "outputs": [],
   "source": [
    "def winner_validation(empty_board):\n",
    "    line_1 = (empty_board[1] == empty_board[2] == empty_board[3]) and (empty_board[1] == 'X' or empty_board[1] == 'O')\n",
    "    line_2 = (empty_board[4] == empty_board[5] == empty_board[6]) and (empty_board[4] == 'X' or empty_board[4] == 'O')\n",
    "    line_3 = (empty_board[7] == empty_board[8] == empty_board[9]) and (empty_board[7] == 'X' or empty_board[7] == 'O')\n",
    "    \n",
    "    line_4 = (empty_board[1] == empty_board[4] == empty_board[7]) and (empty_board[1] == 'X' or empty_board[1] == 'O')\n",
    "    line_5 = (empty_board[2] == empty_board[5] == empty_board[8]) and (empty_board[2] == 'X' or empty_board[2] == 'O')\n",
    "    line_6 = (empty_board[3] == empty_board[6] == empty_board[9]) and (empty_board[3] == 'X' or empty_board[3] == 'O')\n",
    "    \n",
    "    line_7 = (empty_board[1] == empty_board[5] == empty_board[9]) and (empty_board[1] == 'X' or empty_board[1] == 'O')\n",
    "    line_8 = (empty_board[3] == empty_board[5] == empty_board[7]) and (empty_board[3] == 'X' or empty_board[3] == 'O')\n",
    "    \n",
    "    if (line_1 or line_2 or line_3 or line_4 or line_5 or line_6 or line_7 or line_8) == True:\n",
    "        return True\n",
    "    else:\n",
    "        return False"
   ]
  },
  {
   "cell_type": "code",
   "execution_count": 8,
   "metadata": {},
   "outputs": [],
   "source": [
    "def play_game():\n",
    "    \n",
    "    #Welcome To Game\n",
    "    welcome_to_game()\n",
    "    \n",
    "    #Showing the Initial board\n",
    "    empty_board = ['_','_','_','_','_','_','_',' ',' ',' ']\n",
    "    \n",
    "    \n",
    "    #Who is my Player 1 and 2\n",
    "    player1_marker, player2_marker = player_input()\n",
    "    \n",
    "    \n",
    "    marker = player1_marker\n",
    "    winner = False\n",
    "    selected = []\n",
    "    count = 1\n",
    "    \n",
    "    #Play until there is a winner or Draw\n",
    "    while winner == False:\n",
    "        if marker == 'X':\n",
    "            print(\"\")\n",
    "            print(\"Player X\")\n",
    "            position = position_choice()\n",
    "        else:\n",
    "            print(\"\")\n",
    "            print(\"Player O\")\n",
    "            position = position_choice()\n",
    "        \n",
    "        if position not in selected:\n",
    "            selected.append(position)\n",
    "            display_board(empty_board)\n",
    "            \n",
    "            if marker == 'X':\n",
    "                empty_board = replacement(position, empty_board, marker)\n",
    "                marker = 'O'\n",
    "                display_board(empty_board)\n",
    "                count += 1\n",
    "            else:\n",
    "                empty_board = replacement(position, empty_board, marker)\n",
    "                marker = 'X'\n",
    "                display_board(empty_board)\n",
    "                count += 1\n",
    "        else:\n",
    "            print(\"Position was already filled\")\n",
    "            \n",
    "        if count > 4 and count < 9:\n",
    "            winner = winner_validation(empty_board)\n",
    "        elif count == 9:\n",
    "            winner = \"Draw\"\n",
    "        else:\n",
    "            pass\n",
    "    \n",
    "    if winner == True:\n",
    "        if marker == player1_marker:\n",
    "            print('Player 2 Won!!!')\n",
    "        else:\n",
    "            print('Player 1 Won!!!')\n",
    "    else:\n",
    "        print('Draw!!')"
   ]
  },
  {
   "cell_type": "code",
   "execution_count": 10,
   "metadata": {},
   "outputs": [
    {
     "name": "stdout",
     "output_type": "stream",
     "text": [
      "|X|X|_|\n",
      "|_|X|_|\n",
      "|O|O|O|\n",
      "Player 2 Won!!!\n"
     ]
    }
   ],
   "source": [
    "play_game()"
   ]
  },
  {
   "cell_type": "code",
   "execution_count": null,
   "metadata": {},
   "outputs": [],
   "source": []
  }
 ],
 "metadata": {
  "kernelspec": {
   "display_name": "Python 3",
   "language": "python",
   "name": "python3"
  },
  "language_info": {
   "codemirror_mode": {
    "name": "ipython",
    "version": 3
   },
   "file_extension": ".py",
   "mimetype": "text/x-python",
   "name": "python",
   "nbconvert_exporter": "python",
   "pygments_lexer": "ipython3",
   "version": "3.7.6"
  }
 },
 "nbformat": 4,
 "nbformat_minor": 4
}
