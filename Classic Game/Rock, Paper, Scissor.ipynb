{
 "cells": [
  {
   "cell_type": "markdown",
   "metadata": {},
   "source": [
    "### Rock, Paper, Scissor Game\n",
    "my imports"
   ]
  },
  {
   "cell_type": "code",
   "execution_count": 1,
   "metadata": {},
   "outputs": [],
   "source": [
    "from IPython.display import clear_output\n",
    "import secrets"
   ]
  },
  {
   "cell_type": "markdown",
   "metadata": {},
   "source": [
    "My function to start the game"
   ]
  },
  {
   "cell_type": "code",
   "execution_count": 2,
   "metadata": {},
   "outputs": [],
   "source": [
    "def select_option():\n",
    "    choice = ''\n",
    "    \n",
    "    while choice != 'Rock' and choice != 'Paper' and choice != 'Scissor':\n",
    "        choice = input('Would you like to play Rock, Paper or Scissor? ').capitalize()\n",
    "        \n",
    "        if choice != 'Rock' and choice != 'Paper' and choice != 'Scissor':\n",
    "            print('Invalid Choice!!')\n",
    "    \n",
    "    player_choice = choice\n",
    "    \n",
    "    my_options = ['Rock', 'Paper', 'Scissor']\n",
    "    pc_choice = secrets.choice(my_options)\n",
    "    \n",
    "    return (player_choice, pc_choice)"
   ]
  },
  {
   "cell_type": "code",
   "execution_count": 3,
   "metadata": {},
   "outputs": [],
   "source": [
    "def check_winner(user_choice, pc_choice):\n",
    "    \n",
    "    if user_choice == pc_choice:\n",
    "        \n",
    "        clear_output()\n",
    "        print(\"It is a draw!!!\")\n",
    "        print('Your choice was {} and The PC was {}'.format( user_choice, pc_choice))\n",
    "        print('Let\\'s try again!')\n",
    "        return False\n",
    "    \n",
    "    else:\n",
    "        return True"
   ]
  },
  {
   "cell_type": "code",
   "execution_count": 6,
   "metadata": {},
   "outputs": [],
   "source": [
    "def  play_game():\n",
    "    #Clear the outputs before start the game\n",
    "    clear_output()\n",
    "    \n",
    "    print('Welcome to Rock, Paper, Scissor Game!')\n",
    "    user_choice, pc_choice = '', ''\n",
    "    winner = False\n",
    "    \n",
    "    while winner == False:\n",
    "        user_choice, pc_choice = select_option()\n",
    "        winner = check_winner(user_choice, pc_choice)\n",
    "    \n",
    "    #Checking who win\n",
    "    if user_choice == 'Rock':\n",
    "        \n",
    "        if pc_choice == 'Paper':\n",
    "            print('The PC choose {}'.format(pc_choice))\n",
    "            print('The PC wins, You lost!')\n",
    "        else:\n",
    "            print('The PC choose {}'.format(pc_choice))\n",
    "            print('You Win!')\n",
    "    \n",
    "    elif user_choice == 'Paper':\n",
    "        \n",
    "        if pc_choice == 'Scissor':\n",
    "            print('The PC choose {}'.format(pc_choice))\n",
    "            print('The PC wins, You lost!')\n",
    "        else:\n",
    "            print('The PC choose {}'.format(pc_choice))\n",
    "            print('You Win!')\n",
    "    else:\n",
    "        \n",
    "        if pc_choice == 'Rock':\n",
    "            print('The PC choose {}'.format(pc_choice))\n",
    "            print('The PC wins, You lost!')\n",
    "        else:\n",
    "            print('The PC choose {}'.format(pc_choice))\n",
    "            print('You Win!')"
   ]
  },
  {
   "cell_type": "code",
   "execution_count": 9,
   "metadata": {},
   "outputs": [
    {
     "name": "stdout",
     "output_type": "stream",
     "text": [
      "It is a draw!!!\n",
      "Your choice was Paper and The PC was Paper\n",
      "Let's try again!\n",
      "Would you like to play Rock, Paper or Scissor? scissor\n",
      "The PC choose Paper\n",
      "You Win!\n"
     ]
    }
   ],
   "source": [
    "play_game()"
   ]
  },
  {
   "cell_type": "code",
   "execution_count": null,
   "metadata": {},
   "outputs": [],
   "source": []
  }
 ],
 "metadata": {
  "kernelspec": {
   "display_name": "Python 3",
   "language": "python",
   "name": "python3"
  },
  "language_info": {
   "codemirror_mode": {
    "name": "ipython",
    "version": 3
   },
   "file_extension": ".py",
   "mimetype": "text/x-python",
   "name": "python",
   "nbconvert_exporter": "python",
   "pygments_lexer": "ipython3",
   "version": "3.7.6"
  }
 },
 "nbformat": 4,
 "nbformat_minor": 4
}
