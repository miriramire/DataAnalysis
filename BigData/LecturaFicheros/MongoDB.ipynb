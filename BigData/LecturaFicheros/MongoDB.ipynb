{
 "cells": [
  {
   "cell_type": "markdown",
   "metadata": {},
   "source": [
    "Conectarse al servidor asi:<br>\n",
    "\">\" mongod -port 28000 -dbpath C:\\data<br>\n",
    "Luego:<br>\n",
    "\">\" mongo twitter -port 28000"
   ]
  },
  {
   "cell_type": "code",
   "execution_count": 21,
   "metadata": {},
   "outputs": [],
   "source": [
    "from pymongo import MongoClient\n",
    "client = MongoClient('mongodb://localhost:28000/')"
   ]
  },
  {
   "cell_type": "code",
   "execution_count": 22,
   "metadata": {},
   "outputs": [],
   "source": [
    "db = client['twitter']"
   ]
  },
  {
   "cell_type": "code",
   "execution_count": 23,
   "metadata": {},
   "outputs": [],
   "source": [
    "tweets = db['tweets']"
   ]
  },
  {
   "cell_type": "code",
   "execution_count": 24,
   "metadata": {},
   "outputs": [],
   "source": [
    "tweet = {\n",
    "    '_id': 2,\n",
    "    'usuario': {'nick': \"herminia\", 'seguidores':5320},\n",
    "    'texto': \"RT:@herminia: Hoy, excursion ala sierra con @aniceto!\",\n",
    "    'menciones': [\"hermiia\", \"aniceto\"],\n",
    "    'RT': True,\n",
    "    'origen': 1\n",
    "}"
   ]
  },
  {
   "cell_type": "code",
   "execution_count": 25,
   "metadata": {},
   "outputs": [],
   "source": [
    "insertado = tweets.insert_one(tweet)"
   ]
  },
  {
   "cell_type": "code",
   "execution_count": 26,
   "metadata": {},
   "outputs": [
    {
     "name": "stdout",
     "output_type": "stream",
     "text": [
      "2\n"
     ]
    }
   ],
   "source": [
    "print(insertado.inserted_id)"
   ]
  },
  {
   "cell_type": "markdown",
   "metadata": {},
   "source": [
    "<h3>Importacion de ficheros</h3>"
   ]
  },
  {
   "cell_type": "code",
   "execution_count": 39,
   "metadata": {},
   "outputs": [],
   "source": [
    "from pymongo import MongoClient\n",
    "import random\n",
    "import string\n",
    "client = MongoClient('mongodb://localhost:28000/')\n",
    "db = client['twitter']\n",
    "tweets = db['tweets']\n",
    "tweets.drop()"
   ]
  },
  {
   "cell_type": "markdown",
   "metadata": {},
   "source": [
    "Usuarios inventados"
   ]
  },
  {
   "cell_type": "code",
   "execution_count": 40,
   "metadata": {},
   "outputs": [],
   "source": [
    "usuarios = [(\"bertoldo\", 1320),(\"herminia\", 5320),(\"aniceto\", 123),(\"melibea\", 411)]\n",
    "n = 100"
   ]
  },
  {
   "cell_type": "code",
   "execution_count": 41,
   "metadata": {},
   "outputs": [],
   "source": [
    "for i in range(1,n+1):\n",
    "    tweet = {}\n",
    "    tweet['_id'] = i\n",
    "    tweet['text'] = ''.join(random.choices(string.ascii_uppercase, k=10))\n",
    "    u = {}\n",
    "    u['nick'], u['seguidores'] = random.choice(usuarios)\n",
    "    tweet['usuario'] = u\n",
    "    tweet['RT'] = i>1 and random.choice([False,True])\n",
    "    if tweet['RT'] and i>1:\n",
    "        tweet['origen'] = random.randrange(1,i)\n",
    "    m = random.sample(usuarios, random.randrange(0, len(usuarios)))\n",
    "    tweet['mentions'] = [nick for nick,_ in m]\n",
    "    #tweets.insert_one(tweet)\n",
    "    insertado = tweets.insert_one(tweet)"
   ]
  },
  {
   "cell_type": "code",
   "execution_count": 42,
   "metadata": {},
   "outputs": [
    {
     "name": "stdout",
     "output_type": "stream",
     "text": [
      "100\n"
     ]
    }
   ],
   "source": [
    "print(insertado.inserted_id)"
   ]
  },
  {
   "cell_type": "markdown",
   "metadata": {},
   "source": [
    "\">\"db.tweets.count()"
   ]
  },
  {
   "cell_type": "markdown",
   "metadata": {},
   "source": [
    "<H3>Consultas simples</H3>"
   ]
  },
  {
   "cell_type": "markdown",
   "metadata": {},
   "source": [
    "<p>Modo simple, busca 20 tweets:\n",
    "\">\" db.tweets.find()<br>\n",
    "Mejorar la vista del documento:\n",
    "\">\"db.tweets.find().pretty()<br>\n",
    "Empezar desde el segundo documento:\n",
    "\">\"db.tweets.find().skip(1).pretty()<br> \n",
    "Mostrar los n primeros documentos con limit(n):\n",
    "\">\"db.tweets.find().skip(5).limit(2).pretty()<br> \n",
    "Ordenar documentos con sort:<br>\n",
    "+1 (Menor a Mayor), -1(Mayor a Menor)<br>\n",
    "\">\"db.tweets.find().skip(5).sort({_id:-1}).pretty()<br>\n",
    "Ordenar por numero de seguidores, de Mayor a Menor:\n",
    "\">\"db.tweets.find().sort({\"usuario.seguidores\":-1}).pretty()<br>\n",
    "Ordenar por numero de seguidores, de Mayor a Menor, tambien para los tweets del usuario con el mismo tweet:\n",
    "\">\"db.tweets.find().sort({\"usuario.seguidores\":-1, _id:-1}).pretty()<br>\n",
    "Combinar limit, skip y sort:\n",
    "\">\"db.tweets.find().sort({_id:-1}).limit(1)<br>\n",
    "Pero Tambien:\n",
    "\">\"db.tweets.find().limit(1).sort({_id:-1})<br>\n",
    "Crear un index para acelerar la busqueda:\n",
    "\">\"db.tweets.createIndex({\"usuario.seguidores\":-1, _id:-1})<br></p>"
   ]
  },
  {
   "cell_type": "markdown",
   "metadata": {},
   "source": [
    "<h3>Estructura general de find</h3>"
   ]
  },
  {
   "cell_type": "markdown",
   "metadata": {},
   "source": [
    "find({filtro},{proyeccion})<br>\n",
    "Para proyeccion:<br>\n",
    "find({},{clave:1}): incluya la clave<br>\n",
    "find({},{clave:0}): excluya la clave<br>\n",
    "<p>Excluye el usuario</p>\n",
    "<p>>db.tweets.find({},{usuario:0})</p>\n",
    "<p>Solo ver id y text, si no se pone ID igual lo mostrara</p>\n",
    "<p>>db.tweets.find({},{_id:1, text:1})</p>\n",
    "<p>Solo ver text</p>\n",
    "<p>>db.tweets.find({},{text:1, _id:0})</p>"
   ]
  },
  {
   "cell_type": "markdown",
   "metadata": {},
   "source": [
    "<h3>Igualdad</h3>"
   ]
  },
  {
   "cell_type": "markdown",
   "metadata": {},
   "source": [
    "<p>Solo ver textos del retweets</p>\n",
    "<p>>db.tweets.find({RT:true},{text:1, _id:0})</p>\n",
    "<p>Solo ver retweets hechos por Bertoldo</p>\n",
    "<p>>db.tweets.find({RT:true, 'usuario.nick':'bertoldo'},{text:1, _id:0})</p>\n",
    "<p>contar retweets hechos por Bertoldo</p>\n",
    "<p>>db.tweets.find({RT:true, 'usuario.nick':'bertoldo'},{text:1, _id:0}).count()</p>"
   ]
  },
  {
   "cell_type": "markdown",
   "metadata": {},
   "source": [
    "<h3>Operadores de comparacion</h3>"
   ]
  },
  {
   "cell_type": "markdown",
   "metadata": {},
   "source": [
    "<p>tweets no emitidos por Bertoldo</p><br>\n",
    "<p>>db.tweets.find({'usuario.nick':{&dollar;ne:'bertoldo'}}).count()</p><br>\n",
    "<p>Restar al total el numero de tweets emitidos por Bertoldo</p><br>\n",
    "<p>>db.tweets.find().count() - db.tweets.find({'usuario.nick':'bertoldo'}).count()</p><br>\n",
    "<p>Tweets de usuarios que tienen entre 1000 y 2000</p><br>\n",
    "<p>>db.tweets.find({'usuario.seguidores':{&dollar;gt:1000, &dollar;lt:2000}})</p><br>\n",
    "<p>Tweets Escritos por Bertoldo o Herminia</p><br>\n",
    "<p>>db.tweets.find({'$or': [{'usuario.nick':'bertoldo'},{'usuario.nick':'herminia'}]})</p>"
   ]
  },
  {
   "cell_type": "markdown",
   "metadata": {},
   "source": [
    "<h3>ARRAYS</h3>"
   ]
  },
  {
   "cell_type": "markdown",
   "metadata": {},
   "source": [
    "<p>Ver la clave mentions</p>\n",
    "<p>db.tweets.find({mentions:\"aniceto\"},{mentions:1})</p>\n",
    "<p>No menciona aniceto</p>\n",
    "<p>db.tweets.find({mentions:{&dollar;ne:\"aniceto\"}},{mentions:1})</p>"
   ]
  },
  {
   "cell_type": "markdown",
   "metadata": {},
   "source": [
    "<h3>$EXISTS</h3>"
   ]
  },
  {
   "cell_type": "markdown",
   "metadata": {},
   "source": [
    "<p>Mostrar Tweets por clave original</p>\n",
    "<p>>db.tweets.find().sort({origen:1})</p>\n",
    "<p>Mostrar Tweets por clave original cuando una clave no existe</p>\n",
    "<p>>db.tweets.find({origen:{&dollar;exists:1}}).sort({origen:1})</p>"
   ]
  },
  {
   "cell_type": "markdown",
   "metadata": {},
   "source": [
    "<h3>Find in Python</h3>"
   ]
  },
  {
   "cell_type": "code",
   "execution_count": 1,
   "metadata": {},
   "outputs": [],
   "source": [
    "from pymongo import MongoClient\n",
    "client = MongoClient('mongodb://localhost:28000/')\n",
    "db = client['twitter']\n",
    "tweets = db['tweets']"
   ]
  },
  {
   "cell_type": "code",
   "execution_count": 2,
   "metadata": {},
   "outputs": [
    {
     "name": "stdout",
     "output_type": "stream",
     "text": [
      "{'text': 'GZKPZTBQUH'}\n"
     ]
    }
   ],
   "source": [
    "tweet = tweets.find_one({\"usuario.nick\": 'bertoldo'}, {'text':1, '_id':0})\n",
    "print(tweet)"
   ]
  },
  {
   "cell_type": "code",
   "execution_count": 3,
   "metadata": {},
   "outputs": [
    {
     "name": "stdout",
     "output_type": "stream",
     "text": [
      "text:  GZKPZTBQUH\n"
     ]
    }
   ],
   "source": [
    "tweet = tweets.find_one({\"usuario.nick\": 'bertoldo'})\n",
    "print('text: ', tweet['text'])"
   ]
  },
  {
   "cell_type": "code",
   "execution_count": 4,
   "metadata": {},
   "outputs": [
    {
     "name": "stdout",
     "output_type": "stream",
     "text": [
      "GZKPZTBQUH\n",
      "ITZAJNFTAS\n",
      "FBQZLVIEVT\n",
      "MDTECYLPWW\n",
      "CZOCEBPXNM\n",
      "AYAAUOLIQG\n",
      "XDVGSLEFJT\n",
      "ASBQGRQAZE\n",
      "RKKMQSLRHL\n",
      "NEKKAEFVIS\n",
      "RSRZQCTOWM\n",
      "UMIAJLQIAG\n"
     ]
    }
   ],
   "source": [
    "for t in tweets.find({\"usuario.nick\": 'bertoldo', 'mentions': \"herminia\"}):\n",
    "    print(t['text'])"
   ]
  },
  {
   "cell_type": "code",
   "execution_count": 6,
   "metadata": {},
   "outputs": [
    {
     "name": "stdout",
     "output_type": "stream",
     "text": [
      "GZKPZTBQUH\n",
      "ITZAJNFTAS\n",
      "FBQZLVIEVT\n",
      "MDTECYLPWW\n",
      "CZOCEBPXNM\n",
      "AYAAUOLIQG\n",
      "XDVGSLEFJT\n",
      "ASBQGRQAZE\n",
      "RKKMQSLRHL\n",
      "NEKKAEFVIS\n",
      "RSRZQCTOWM\n",
      "UMIAJLQIAG\n"
     ]
    }
   ],
   "source": [
    "for t in tweets.find():\n",
    "    if t['usuario']['nick'] == \"bertoldo\" and \"herminia\" in t['mentions']:\n",
    "        print(t['text'])"
   ]
  },
  {
   "cell_type": "markdown",
   "metadata": {},
   "source": [
    "<h2>Agregaciones</h2>\n",
    "<h3>El piepline</h3>\n",
    "<p>aggregate se define mediante una serie de etapas consecutivas</p>\n",
    "<p>>db.tweets.aggregate([etapa1, ..., etapan])</p>"
   ]
  },
  {
   "cell_type": "markdown",
   "metadata": {},
   "source": [
    "<h3>&dollar;group</h3>\n",
    "<p>Agrupar elementos y realizar operaciones sobre cada grupo</p>\n",
    "<p>>db.tweets.aggregate(\n",
    "     [\n",
    "      {&dollar;group:\n",
    "        {_id:\"&dollar;usuario.nick\",\n",
    "        num_tweets:{&dollar;sum:1}\n",
    "        }\n",
    "      }\n",
    "     ]\n",
    "    )</p><br>\n",
    "<p>>db.tweets.aggregate([{$sortByCount:\"$usuario.nick\"}])</p>"
   ]
  },
  {
   "cell_type": "markdown",
   "metadata": {},
   "source": [
    "<p>>db.tweets.aggregate( [ {$group: {_id:{nick:\"$usuario.nick\", RT:\"$RT\"}, num_tweets:{$sum:1} } } ] )\n",
    "</p>"
   ]
  },
  {
   "cell_type": "markdown",
   "metadata": {},
   "source": [
    "<p>>db.tweets.aggregate( [ {$group: {_id:\"$usuario.nick\", textos:{$push:\"$text\"} } } ] )</p>"
   ]
  },
  {
   "cell_type": "markdown",
   "metadata": {},
   "source": [
    "<p>db.tweets.aggregate( [ {$group: {_id:null, menciones:{$avg:{$size: \"$mentions\"}} } } ] )</p>"
   ]
  },
  {
   "cell_type": "markdown",
   "metadata": {},
   "source": [
    "<h2>$match</h2>"
   ]
  },
  {
   "cell_type": "markdown",
   "metadata": {},
   "source": [
    "<p>Ver el total de tweets por usuario con mas de 20 tweets</p>\n",
    "<p>db.tweets.aggregate( [ {$sortByCount: \"$usuario.nick\"}, {$match: {count:{$gt:20}}} ] )</p>"
   ]
  },
  {
   "cell_type": "markdown",
   "metadata": {},
   "source": [
    "<h3>$project</h3>\n",
    "<p>Crear el campo nuMentions que contendra el tamaño del campo mentios</p>\n",
    "<p>db.tweets.aggregate( [ {$project: {usuario:1, _id:0, numMentions : {$size:\"$mentions\"}}}] )</p>"
   ]
  },
  {
   "cell_type": "markdown",
   "metadata": {},
   "source": [
    "<h3>$unwind, $sample, $out,..</h3>"
   ]
  },
  {
   "cell_type": "markdown",
   "metadata": {},
   "source": [
    "<p>db.unwind.drop()</p>\n",
    "<p>db.unwind.insert({_id:1, a:1, b:[1,2,3]})</p>\n",
    "<p>db.unwind.insert({_id:2, a:2, b:[4,5]})</p>\n",
    "<p>db.unwind.aggregate([{$unwind: \"$b\"}])</p>"
   ]
  },
  {
   "cell_type": "markdown",
   "metadata": {},
   "source": [
    "Combinado con otros:\n",
    "db.tweets.aggregate([{$sample:{size: 2}}])"
   ]
  },
  {
   "cell_type": "markdown",
   "metadata": {},
   "source": [
    "$out: almacena el resultado de las etapas anteriores <br>\n",
    "db.tweets.aggregate([{$sample:{size: 3}},{$out: \"minitweets\"}])"
   ]
  },
  {
   "cell_type": "markdown",
   "metadata": {},
   "source": [
    "<h3>$lookup</h3>"
   ]
  },
  {
   "cell_type": "markdown",
   "metadata": {},
   "source": [
    "db.tweets.findOne({RT: true})<br>\n",
    "Estructura Lookup<br>\n",
    "{\n",
    "    $lookup:\n",
    "    {\n",
    "        from:<Coleccion a combinar>,\n",
    "        localField:<Clave de los documentos riginales>,\n",
    "        foreignField:<Clave de los documentos de la coleccion \"From\">,\n",
    "        as:<nombre del campo del array generado>\n",
    "    }\n",
    "}"
   ]
  },
  {
   "cell_type": "markdown",
   "metadata": {},
   "source": [
    "db.tweets.aggregate([{$match:{RT: true}},{$lookup:{from: \"tweets\",localField: \"origen\",foreignField: \"_id\",as: \"tweet_original\"}}, {$unwind:\"$tweet_original\"},{$project: {_id: \"$_id\", emitido: \"$usuario.nick\", fuente:\"$tweet_original.usuario.nick\"}}])"
   ]
  },
  {
   "cell_type": "markdown",
   "metadata": {},
   "source": [
    "Usuario mas mencionado:<br>\n",
    "db.tweets.aggregate([{$match:{RT: true}},{$unwind:\"$mentions\"},{$sortByCount: \"$mentions\"}])"
   ]
  },
  {
   "cell_type": "markdown",
   "metadata": {},
   "source": [
    "<h2>Vistas</h2>"
   ]
  },
  {
   "cell_type": "markdown",
   "metadata": {},
   "source": [
    "db.createView(\"mencionesOriginales\", \"tweets\", [{$match:{RT: true}},{$unwind:\"$mentions\"},{$sortByCount: \"$mentions\"}])"
   ]
  },
  {
   "cell_type": "markdown",
   "metadata": {},
   "source": [
    "<p>>show collections</p>\n",
    "<p>>db.mencionesOriginales.find()</p>"
   ]
  },
  {
   "cell_type": "markdown",
   "metadata": {},
   "source": [
    "<h2>Update and remove</h2>"
   ]
  },
  {
   "cell_type": "code",
   "execution_count": 1,
   "metadata": {},
   "outputs": [],
   "source": [
    "from pymongo import MongoClient\n",
    "client = MongoClient('mongodb://localhost:28000/')\n",
    "db = client['astronomia']\n",
    "estelar = db['estelar']"
   ]
  },
  {
   "cell_type": "code",
   "execution_count": 2,
   "metadata": {},
   "outputs": [],
   "source": [
    "estelar.drop()"
   ]
  },
  {
   "cell_type": "code",
   "execution_count": 4,
   "metadata": {},
   "outputs": [
    {
     "data": {
      "text/plain": [
       "<pymongo.results.InsertManyResult at 0x146454ae908>"
      ]
     },
     "execution_count": 4,
     "metadata": {},
     "output_type": "execute_result"
    }
   ],
   "source": [
    "estelar.insert_many([\n",
    "    {'_id':1, 'nombre': \"Sirio\", 'tipo': \"estrella\", 'espectro': \"A1V\"},\n",
    "    {'_id':2, 'nombre': \"Saturno\", 'tipo': \"Planeta\"},\n",
    "    {'_id':3, 'nombre': \"Pluton\", 'tipo': \"Planeta\"}\n",
    "])"
   ]
  },
  {
   "cell_type": "code",
   "execution_count": 5,
   "metadata": {},
   "outputs": [
    {
     "data": {
      "text/plain": [
       "<pymongo.results.UpdateResult at 0x14645697548>"
      ]
     },
     "execution_count": 5,
     "metadata": {},
     "output_type": "execute_result"
    }
   ],
   "source": [
    "pluton = estelar.find_one({'_id':3})\n",
    "pluton['tipo'] = \"planeta enano\"\n",
    "estelar.replace_one({'_id':pluton['_id']}, pluton)"
   ]
  },
  {
   "cell_type": "markdown",
   "metadata": {},
   "source": [
    "<h3>Update Parcial</h3>"
   ]
  },
  {
   "cell_type": "markdown",
   "metadata": {},
   "source": [
    "<p>>use astronomia</p>"
   ]
  },
  {
   "cell_type": "markdown",
   "metadata": {},
   "source": [
    "db.estelar.updateOne({nombre:\"Pluton\"}, {$set: {tipo: \"planeta enano\"}})"
   ]
  },
  {
   "cell_type": "markdown",
   "metadata": {},
   "source": [
    "Para modificar varios valores: <br>\n",
    "db.estelar.updateMany({}, {$currentDate:{fecha: true}})"
   ]
  },
  {
   "cell_type": "markdown",
   "metadata": {},
   "source": [
    "Clave \"Tipo\" canmbie a \"Clase\": <br>\n",
    "db.estelar.updateMany({}, {$rename:{\"tipo\": \"clase\"}})"
   ]
  },
  {
   "cell_type": "markdown",
   "metadata": {},
   "source": [
    "Eliminar la clave \"espectro\": <br>\n",
    "db.estelar.updateOne({nombre:\"Sirio\"}, {$unset:{\"espectro\": true}})"
   ]
  },
  {
   "cell_type": "markdown",
   "metadata": {},
   "source": [
    "Eliminar elementos:<br>\n",
    "db.estelar.remove({clase:'planeta enano'})<br>\n",
    "db.estelar.remove({clase:'planeta'}, {justOne: true})"
   ]
  },
  {
   "cell_type": "code",
   "execution_count": null,
   "metadata": {},
   "outputs": [],
   "source": []
  }
 ],
 "metadata": {
  "kernelspec": {
   "display_name": "Python 3",
   "language": "python",
   "name": "python3"
  },
  "language_info": {
   "codemirror_mode": {
    "name": "ipython",
    "version": 3
   },
   "file_extension": ".py",
   "mimetype": "text/x-python",
   "name": "python",
   "nbconvert_exporter": "python",
   "pygments_lexer": "ipython3",
   "version": "3.7.3"
  }
 },
 "nbformat": 4,
 "nbformat_minor": 2
}
